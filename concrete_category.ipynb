{
 "cells": [
  {
   "cell_type": "code",
   "execution_count": 1,
   "metadata": {},
   "outputs": [],
   "source": [
    "import pandas as pd\n",
    "import numpy as np\n",
    "import matplotlib.pyplot as plt\n",
    "import seaborn as sns\n",
    "from sklearn.model_selection import train_test_split, cross_val_score\n",
    "from sklearn.ensemble import GradientBoostingClassifier\n",
    "import statsmodels.api as sm\n",
    "from sklearn.metrics import r2_score\n",
    "from sklearn.metrics import classification_report \n",
    "from sklearn.metrics import accuracy_score \n",
    "from scipy import stats\n",
    "from sklearn.model_selection import KFold\n",
    "import pickle\n",
    "import sys"
   ]
  },
  {
   "cell_type": "code",
   "execution_count": 2,
   "metadata": {},
   "outputs": [],
   "source": [
    "def accuracy_classification_report(y_test, preds):\n",
    "  confusion_mtx = {\n",
    "      'y_Actual': np.array(y_test),\n",
    "      'y_Predicted': preds\n",
    "  }\n",
    "\n",
    "  confusion_df = pd.DataFrame(confusion_mtx, columns=['y_Actual','y_Predicted'])    \n",
    "\n",
    "  score = (stats.spearmanr(confusion_df['y_Actual'], confusion_df['y_Predicted']))[0]\n",
    "\n",
    "  print('This is the soldiers score {}'.format(score))\n",
    "  print('Accuracy Score :',accuracy_score(confusion_df['y_Actual'], confusion_df['y_Predicted']))\n",
    "  print(classification_report(confusion_df['y_Actual'], confusion_df['y_Predicted']))"
   ]
  },
  {
   "cell_type": "code",
   "execution_count": 3,
   "metadata": {},
   "outputs": [],
   "source": [
    "df = pd.read_excel('spalling.xlsx', index_col=0)"
   ]
  },
  {
   "cell_type": "code",
   "execution_count": 4,
   "metadata": {},
   "outputs": [
    {
     "data": {
      "text/html": [
       "<div>\n",
       "<style scoped>\n",
       "    .dataframe tbody tr th:only-of-type {\n",
       "        vertical-align: middle;\n",
       "    }\n",
       "\n",
       "    .dataframe tbody tr th {\n",
       "        vertical-align: top;\n",
       "    }\n",
       "\n",
       "    .dataframe thead th {\n",
       "        text-align: right;\n",
       "    }\n",
       "</style>\n",
       "<table border=\"1\" class=\"dataframe\">\n",
       "  <thead>\n",
       "    <tr style=\"text-align: right;\">\n",
       "      <th></th>\n",
       "      <th>spalling</th>\n",
       "      <th>time</th>\n",
       "      <th>weightloss</th>\n",
       "      <th>firecurve</th>\n",
       "      <th>load</th>\n",
       "      <th>stress</th>\n",
       "      <th>Age</th>\n",
       "      <th>moisture</th>\n",
       "      <th>Compressive strength</th>\n",
       "    </tr>\n",
       "    <tr>\n",
       "      <th>name</th>\n",
       "      <th></th>\n",
       "      <th></th>\n",
       "      <th></th>\n",
       "      <th></th>\n",
       "      <th></th>\n",
       "      <th></th>\n",
       "      <th></th>\n",
       "      <th></th>\n",
       "      <th></th>\n",
       "    </tr>\n",
       "  </thead>\n",
       "  <tbody>\n",
       "    <tr>\n",
       "      <th>52.4</th>\n",
       "      <td>0</td>\n",
       "      <td>-</td>\n",
       "      <td>2.5</td>\n",
       "      <td>hc</td>\n",
       "      <td>697</td>\n",
       "      <td>6.97</td>\n",
       "      <td>203</td>\n",
       "      <td>5.1</td>\n",
       "      <td>70</td>\n",
       "    </tr>\n",
       "    <tr>\n",
       "      <th>53.1</th>\n",
       "      <td>4</td>\n",
       "      <td>-</td>\n",
       "      <td>2.7</td>\n",
       "      <td>hc</td>\n",
       "      <td>520</td>\n",
       "      <td>5.20</td>\n",
       "      <td>196</td>\n",
       "      <td>4.3</td>\n",
       "      <td>52</td>\n",
       "    </tr>\n",
       "    <tr>\n",
       "      <th>53.2</th>\n",
       "      <td>0</td>\n",
       "      <td>-</td>\n",
       "      <td>2.2</td>\n",
       "      <td>hc</td>\n",
       "      <td>532</td>\n",
       "      <td>5.32</td>\n",
       "      <td>196</td>\n",
       "      <td>4.3</td>\n",
       "      <td>52</td>\n",
       "    </tr>\n",
       "    <tr>\n",
       "      <th>54.3</th>\n",
       "      <td>0</td>\n",
       "      <td>-</td>\n",
       "      <td>1.7</td>\n",
       "      <td>hc</td>\n",
       "      <td>471</td>\n",
       "      <td>4.71</td>\n",
       "      <td>197</td>\n",
       "      <td>4.5</td>\n",
       "      <td>47</td>\n",
       "    </tr>\n",
       "    <tr>\n",
       "      <th>54.4</th>\n",
       "      <td>0</td>\n",
       "      <td>-</td>\n",
       "      <td>1.4</td>\n",
       "      <td>hc</td>\n",
       "      <td>487</td>\n",
       "      <td>4.87</td>\n",
       "      <td>200</td>\n",
       "      <td>4.5</td>\n",
       "      <td>47</td>\n",
       "    </tr>\n",
       "  </tbody>\n",
       "</table>\n",
       "</div>"
      ],
      "text/plain": [
       "      spalling time weightloss firecurve  load  stress  Age moisture  \\\n",
       "name                                                                   \n",
       "52.4         0    -        2.5        hc   697    6.97  203      5.1   \n",
       "53.1         4    -        2.7        hc   520    5.20  196      4.3   \n",
       "53.2         0    -        2.2        hc   532    5.32  196      4.3   \n",
       "54.3         0    -        1.7        hc   471    4.71  197      4.5   \n",
       "54.4         0    -        1.4        hc   487    4.87  200      4.5   \n",
       "\n",
       "     Compressive strength  \n",
       "name                       \n",
       "52.4                   70  \n",
       "53.1                   52  \n",
       "53.2                   52  \n",
       "54.3                   47  \n",
       "54.4                   47  "
      ]
     },
     "execution_count": 4,
     "metadata": {},
     "output_type": "execute_result"
    }
   ],
   "source": [
    "df.tail()"
   ]
  },
  {
   "cell_type": "code",
   "execution_count": 5,
   "metadata": {},
   "outputs": [],
   "source": [
    "# df_spall = df.loc[df['spalling']!=0]\n",
    "df_spall = df.loc[df['firecurve']=='std']\n",
    "df_spall = df_spall.drop('firecurve', axis=1)\n",
    "df_spall = df_spall.drop('weightloss', axis=1)\n",
    "df_spall = df_spall.drop('time', axis=1)\n",
    "df_spall = df_spall.drop('Age', axis=1)\n",
    "df_spall = df_spall.drop('stress', axis=1)\n",
    "df_use = df_spall"
   ]
  },
  {
   "cell_type": "code",
   "execution_count": 6,
   "metadata": {},
   "outputs": [
    {
     "data": {
      "text/html": [
       "<div>\n",
       "<style scoped>\n",
       "    .dataframe tbody tr th:only-of-type {\n",
       "        vertical-align: middle;\n",
       "    }\n",
       "\n",
       "    .dataframe tbody tr th {\n",
       "        vertical-align: top;\n",
       "    }\n",
       "\n",
       "    .dataframe thead th {\n",
       "        text-align: right;\n",
       "    }\n",
       "</style>\n",
       "<table border=\"1\" class=\"dataframe\">\n",
       "  <thead>\n",
       "    <tr style=\"text-align: right;\">\n",
       "      <th></th>\n",
       "      <th>spalling</th>\n",
       "      <th>load</th>\n",
       "      <th>moisture</th>\n",
       "      <th>Compressive strength</th>\n",
       "    </tr>\n",
       "    <tr>\n",
       "      <th>name</th>\n",
       "      <th></th>\n",
       "      <th></th>\n",
       "      <th></th>\n",
       "      <th></th>\n",
       "    </tr>\n",
       "  </thead>\n",
       "  <tbody>\n",
       "    <tr>\n",
       "      <th>57.20</th>\n",
       "      <td>0</td>\n",
       "      <td>467</td>\n",
       "      <td>4.6</td>\n",
       "      <td>40</td>\n",
       "    </tr>\n",
       "    <tr>\n",
       "      <th>39.33</th>\n",
       "      <td>59</td>\n",
       "      <td>436</td>\n",
       "      <td>4.9</td>\n",
       "      <td>92</td>\n",
       "    </tr>\n",
       "    <tr>\n",
       "      <th>39.34</th>\n",
       "      <td>41</td>\n",
       "      <td>442</td>\n",
       "      <td>-</td>\n",
       "      <td>-</td>\n",
       "    </tr>\n",
       "    <tr>\n",
       "      <th>39.35</th>\n",
       "      <td>55</td>\n",
       "      <td>924</td>\n",
       "      <td>4.9</td>\n",
       "      <td>92</td>\n",
       "    </tr>\n",
       "    <tr>\n",
       "      <th>39.40</th>\n",
       "      <td>67</td>\n",
       "      <td>915</td>\n",
       "      <td>4.9</td>\n",
       "      <td>92</td>\n",
       "    </tr>\n",
       "  </tbody>\n",
       "</table>\n",
       "</div>"
      ],
      "text/plain": [
       "       spalling  load moisture Compressive strength\n",
       "name                                               \n",
       "57.20         0   467      4.6                   40\n",
       "39.33        59   436      4.9                   92\n",
       "39.34        41   442        -                    -\n",
       "39.35        55   924      4.9                   92\n",
       "39.40        67   915      4.9                   92"
      ]
     },
     "execution_count": 6,
     "metadata": {},
     "output_type": "execute_result"
    }
   ],
   "source": [
    "df_use.tail(5)"
   ]
  },
  {
   "cell_type": "code",
   "execution_count": 7,
   "metadata": {},
   "outputs": [],
   "source": [
    "def convert(number):\n",
    "    if number > 0:\n",
    "        return 1\n",
    "    else:\n",
    "        return 0"
   ]
  },
  {
   "cell_type": "code",
   "execution_count": 8,
   "metadata": {},
   "outputs": [
    {
     "data": {
      "text/html": [
       "<div>\n",
       "<style scoped>\n",
       "    .dataframe tbody tr th:only-of-type {\n",
       "        vertical-align: middle;\n",
       "    }\n",
       "\n",
       "    .dataframe tbody tr th {\n",
       "        vertical-align: top;\n",
       "    }\n",
       "\n",
       "    .dataframe thead th {\n",
       "        text-align: right;\n",
       "    }\n",
       "</style>\n",
       "<table border=\"1\" class=\"dataframe\">\n",
       "  <thead>\n",
       "    <tr style=\"text-align: right;\">\n",
       "      <th></th>\n",
       "      <th>spalling</th>\n",
       "      <th>load</th>\n",
       "      <th>moisture</th>\n",
       "      <th>Compressive strength</th>\n",
       "    </tr>\n",
       "    <tr>\n",
       "      <th>name</th>\n",
       "      <th></th>\n",
       "      <th></th>\n",
       "      <th></th>\n",
       "      <th></th>\n",
       "    </tr>\n",
       "  </thead>\n",
       "  <tbody>\n",
       "    <tr>\n",
       "      <th>1.1</th>\n",
       "      <td>20</td>\n",
       "      <td>624</td>\n",
       "      <td>4.5</td>\n",
       "      <td>63</td>\n",
       "    </tr>\n",
       "    <tr>\n",
       "      <th>1.4</th>\n",
       "      <td>21</td>\n",
       "      <td>617</td>\n",
       "      <td>4.5</td>\n",
       "      <td>63</td>\n",
       "    </tr>\n",
       "    <tr>\n",
       "      <th>1.5</th>\n",
       "      <td>17</td>\n",
       "      <td>634</td>\n",
       "      <td>4.5</td>\n",
       "      <td>63</td>\n",
       "    </tr>\n",
       "    <tr>\n",
       "      <th>2.1</th>\n",
       "      <td>32</td>\n",
       "      <td>622</td>\n",
       "      <td>4.1</td>\n",
       "      <td>61</td>\n",
       "    </tr>\n",
       "    <tr>\n",
       "      <th>2.4</th>\n",
       "      <td>19</td>\n",
       "      <td>616</td>\n",
       "      <td>4.1</td>\n",
       "      <td>61</td>\n",
       "    </tr>\n",
       "  </tbody>\n",
       "</table>\n",
       "</div>"
      ],
      "text/plain": [
       "      spalling  load moisture Compressive strength\n",
       "name                                              \n",
       "1.1         20   624      4.5                   63\n",
       "1.4         21   617      4.5                   63\n",
       "1.5         17   634      4.5                   63\n",
       "2.1         32   622      4.1                   61\n",
       "2.4         19   616      4.1                   61"
      ]
     },
     "execution_count": 8,
     "metadata": {},
     "output_type": "execute_result"
    }
   ],
   "source": [
    "df_use.drop(df_use[df_use.moisture == '-'].index, inplace=True)\n",
    "df_use.head(5)"
   ]
  },
  {
   "cell_type": "code",
   "execution_count": 9,
   "metadata": {},
   "outputs": [],
   "source": [
    "df_use['spalling'] = df_use['spalling'].apply(lambda x:convert(x))"
   ]
  },
  {
   "cell_type": "code",
   "execution_count": 10,
   "metadata": {},
   "outputs": [
    {
     "data": {
      "text/html": [
       "<div>\n",
       "<style scoped>\n",
       "    .dataframe tbody tr th:only-of-type {\n",
       "        vertical-align: middle;\n",
       "    }\n",
       "\n",
       "    .dataframe tbody tr th {\n",
       "        vertical-align: top;\n",
       "    }\n",
       "\n",
       "    .dataframe thead th {\n",
       "        text-align: right;\n",
       "    }\n",
       "</style>\n",
       "<table border=\"1\" class=\"dataframe\">\n",
       "  <thead>\n",
       "    <tr style=\"text-align: right;\">\n",
       "      <th></th>\n",
       "      <th>spalling</th>\n",
       "      <th>load</th>\n",
       "      <th>moisture</th>\n",
       "      <th>Compressive strength</th>\n",
       "    </tr>\n",
       "    <tr>\n",
       "      <th>name</th>\n",
       "      <th></th>\n",
       "      <th></th>\n",
       "      <th></th>\n",
       "      <th></th>\n",
       "    </tr>\n",
       "  </thead>\n",
       "  <tbody>\n",
       "    <tr>\n",
       "      <th>1.10</th>\n",
       "      <td>1</td>\n",
       "      <td>624</td>\n",
       "      <td>4.5</td>\n",
       "      <td>63</td>\n",
       "    </tr>\n",
       "    <tr>\n",
       "      <th>1.40</th>\n",
       "      <td>1</td>\n",
       "      <td>617</td>\n",
       "      <td>4.5</td>\n",
       "      <td>63</td>\n",
       "    </tr>\n",
       "    <tr>\n",
       "      <th>1.50</th>\n",
       "      <td>1</td>\n",
       "      <td>634</td>\n",
       "      <td>4.5</td>\n",
       "      <td>63</td>\n",
       "    </tr>\n",
       "    <tr>\n",
       "      <th>2.10</th>\n",
       "      <td>1</td>\n",
       "      <td>622</td>\n",
       "      <td>4.1</td>\n",
       "      <td>61</td>\n",
       "    </tr>\n",
       "    <tr>\n",
       "      <th>2.40</th>\n",
       "      <td>1</td>\n",
       "      <td>616</td>\n",
       "      <td>4.1</td>\n",
       "      <td>61</td>\n",
       "    </tr>\n",
       "    <tr>\n",
       "      <th>...</th>\n",
       "      <td>...</td>\n",
       "      <td>...</td>\n",
       "      <td>...</td>\n",
       "      <td>...</td>\n",
       "    </tr>\n",
       "    <tr>\n",
       "      <th>57.10</th>\n",
       "      <td>0</td>\n",
       "      <td>398</td>\n",
       "      <td>4.6</td>\n",
       "      <td>40</td>\n",
       "    </tr>\n",
       "    <tr>\n",
       "      <th>57.20</th>\n",
       "      <td>0</td>\n",
       "      <td>467</td>\n",
       "      <td>4.6</td>\n",
       "      <td>40</td>\n",
       "    </tr>\n",
       "    <tr>\n",
       "      <th>39.33</th>\n",
       "      <td>1</td>\n",
       "      <td>436</td>\n",
       "      <td>4.9</td>\n",
       "      <td>92</td>\n",
       "    </tr>\n",
       "    <tr>\n",
       "      <th>39.35</th>\n",
       "      <td>1</td>\n",
       "      <td>924</td>\n",
       "      <td>4.9</td>\n",
       "      <td>92</td>\n",
       "    </tr>\n",
       "    <tr>\n",
       "      <th>39.40</th>\n",
       "      <td>1</td>\n",
       "      <td>915</td>\n",
       "      <td>4.9</td>\n",
       "      <td>92</td>\n",
       "    </tr>\n",
       "  </tbody>\n",
       "</table>\n",
       "<p>91 rows × 4 columns</p>\n",
       "</div>"
      ],
      "text/plain": [
       "       spalling  load moisture Compressive strength\n",
       "name                                               \n",
       "1.10          1   624      4.5                   63\n",
       "1.40          1   617      4.5                   63\n",
       "1.50          1   634      4.5                   63\n",
       "2.10          1   622      4.1                   61\n",
       "2.40          1   616      4.1                   61\n",
       "...         ...   ...      ...                  ...\n",
       "57.10         0   398      4.6                   40\n",
       "57.20         0   467      4.6                   40\n",
       "39.33         1   436      4.9                   92\n",
       "39.35         1   924      4.9                   92\n",
       "39.40         1   915      4.9                   92\n",
       "\n",
       "[91 rows x 4 columns]"
      ]
     },
     "execution_count": 10,
     "metadata": {},
     "output_type": "execute_result"
    }
   ],
   "source": [
    "df_use.head(300)"
   ]
  },
  {
   "cell_type": "code",
   "execution_count": 11,
   "metadata": {},
   "outputs": [],
   "source": [
    "data = df_use.drop('spalling',axis=1)\n",
    "target = df_use['spalling']"
   ]
  },
  {
   "cell_type": "code",
   "execution_count": 12,
   "metadata": {},
   "outputs": [],
   "source": [
    "# data.to_numpy()"
   ]
  },
  {
   "cell_type": "code",
   "execution_count": 13,
   "metadata": {},
   "outputs": [],
   "source": [
    "def concrete_classifier(data, target):\n",
    "    X, y = data, target\n",
    "    \n",
    "    kf = KFold(n_splits=5,shuffle=True)\n",
    "    kf.get_n_splits(X)\n",
    "    for train_index, test_index in kf.split(X):\n",
    "        X_train, X_test = X[train_index], X[test_index]\n",
    "        y_train, y_test = y[train_index], y[test_index]\n",
    "    \n",
    "    GBC_model = GradientBoostingClassifier(n_estimators=50)    \n",
    "    GBC_model.fit(X_train,y_train) \n",
    "    pred = GBC_model.predict(X_test)\n",
    "    accuracy_classification_report(y_test, pred)\n",
    "    \n",
    "    return GBC_model, pred"
   ]
  },
  {
   "cell_type": "code",
   "execution_count": 14,
   "metadata": {},
   "outputs": [
    {
     "name": "stdout",
     "output_type": "stream",
     "text": [
      "This is the soldiers score 0.8864052604279182\n",
      "Accuracy Score : 0.9444444444444444\n",
      "              precision    recall  f1-score   support\n",
      "\n",
      "           0       0.86      1.00      0.92         6\n",
      "           1       1.00      0.92      0.96        12\n",
      "\n",
      "    accuracy                           0.94        18\n",
      "   macro avg       0.93      0.96      0.94        18\n",
      "weighted avg       0.95      0.94      0.95        18\n",
      "\n"
     ]
    }
   ],
   "source": [
    "classifier_model, pred = concrete_classifier(data.to_numpy(),target.to_numpy())"
   ]
  },
  {
   "cell_type": "code",
   "execution_count": 15,
   "metadata": {},
   "outputs": [
    {
     "data": {
      "text/plain": [
       "0.5089267854409595"
      ]
     },
     "execution_count": 15,
     "metadata": {},
     "output_type": "execute_result"
    }
   ],
   "source": [
    "classifier_model.predict_proba([data.iloc[54,:]])[0][1]"
   ]
  },
  {
   "cell_type": "code",
   "execution_count": null,
   "metadata": {},
   "outputs": [],
   "source": []
  },
  {
   "cell_type": "code",
   "execution_count": 16,
   "metadata": {},
   "outputs": [
    {
     "data": {
      "text/plain": [
       "1"
      ]
     },
     "execution_count": 16,
     "metadata": {},
     "output_type": "execute_result"
    }
   ],
   "source": [
    "int(classifier_model.predict([data.iloc[54,:]]))"
   ]
  },
  {
   "cell_type": "code",
   "execution_count": 18,
   "metadata": {},
   "outputs": [
    {
     "name": "stdout",
     "output_type": "stream",
     "text": [
      "Your slab will with a 90 percent certainty not spall more than: \n",
      "1 mm\n"
     ]
    }
   ],
   "source": [
    "d = {'load': [601], 'moisture': [5.1], 'Compressive strength': [60]}\n",
    "d_test = pd.DataFrame(data=d)\n",
    "\n",
    "print('Your slab will with a 90 percent certainty not spall more than: ')  \n",
    "print(str(int(classifier_model.predict(d_test))) + ' mm')"
   ]
  },
  {
   "cell_type": "code",
   "execution_count": 19,
   "metadata": {},
   "outputs": [
    {
     "name": "stdout",
     "output_type": "stream",
     "text": [
      "Model saved.\n"
     ]
    }
   ],
   "source": [
    "with open(\"classification_model.pickle\", \"wb\") as file:\n",
    "    pickle.dump(classifier_model, file)\n",
    "print (\"Model saved.\")"
   ]
  },
  {
   "cell_type": "code",
   "execution_count": null,
   "metadata": {},
   "outputs": [],
   "source": []
  },
  {
   "cell_type": "code",
   "execution_count": null,
   "metadata": {},
   "outputs": [],
   "source": []
  },
  {
   "cell_type": "code",
   "execution_count": null,
   "metadata": {},
   "outputs": [],
   "source": []
  },
  {
   "cell_type": "code",
   "execution_count": null,
   "metadata": {},
   "outputs": [],
   "source": []
  },
  {
   "cell_type": "code",
   "execution_count": null,
   "metadata": {},
   "outputs": [],
   "source": []
  },
  {
   "cell_type": "code",
   "execution_count": null,
   "metadata": {},
   "outputs": [],
   "source": []
  }
 ],
 "metadata": {
  "kernelspec": {
   "display_name": "Python 3",
   "language": "python",
   "name": "python3"
  },
  "language_info": {
   "codemirror_mode": {
    "name": "ipython",
    "version": 3
   },
   "file_extension": ".py",
   "mimetype": "text/x-python",
   "name": "python",
   "nbconvert_exporter": "python",
   "pygments_lexer": "ipython3",
   "version": "3.7.6"
  }
 },
 "nbformat": 4,
 "nbformat_minor": 2
}
